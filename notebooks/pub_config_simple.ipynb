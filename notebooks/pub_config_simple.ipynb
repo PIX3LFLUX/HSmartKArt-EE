{
 "cells": [
  {
   "cell_type": "code",
   "execution_count": 52,
   "id": "absent-clark",
   "metadata": {},
   "outputs": [
    {
     "name": "stdout",
     "output_type": "stream",
     "text": [
      "b'<?xml version=\"1.0\" encoding=\"utf-8\" standalone=\"yes\"?><?EDway-GateWay-ConfigFile ?><xml><CONFIGURATION-FILE-ENTRY><TITLE>RPI3BP0</TITLE><DATA-CONTENT><COUNTED-FRAMES>2</COUNTED-FRAMES><FRAME><FRAME-NAME>FRONT</FRAME-NAME><IDENTIFIER>64</IDENTIFIER><ID-MODE>STANDARD</ID-MODE><PBO>LSB</PBO><DIR>IN</DIR><DLC>8</DLC><I-PDU-TIMING-SPECIFICATION><CYCLIC-TIMING><REPEATING-TIME>0.01</REPEATING-TIME><STARTING-TIME>0.0</STARTING-TIME></CYCLIC-TIMING></I-PDU-TIMING-SPECIFICATION><COUNTED-SIGNALS>5</COUNTED-SIGNALS><FRAME-SIGNALS><SYSTEM-SIGNAL><SIGNAL-NAME>FRONT_BYTE_1</SIGNAL-NAME><SIG-POS>0</SIG-POS><LENGTH>8</LENGTH></SYSTEM-SIGNAL><SYSTEM-SIGNAL><SIGNAL-NAME>FRONT_BYTE_2</SIGNAL-NAME><SIG-POS>8</SIG-POS><LENGTH>8</LENGTH></SYSTEM-SIGNAL><SYSTEM-SIGNAL><SIGNAL-NAME>FRONT_BYTE_3_4</SIGNAL-NAME><SIG-POS>16</SIG-POS><LENGTH>16</LENGTH></SYSTEM-SIGNAL><SYSTEM-SIGNAL><SIGNAL-NAME>FRONT_BYTE_5_6</SIGNAL-NAME><SIG-POS>32</SIG-POS><LENGTH>16</LENGTH></SYSTEM-SIGNAL><SYSTEM-SIGNAL><SIGNAL-NAME>FRONT_BYTE_7_8</SIGNAL-NAME><SIG-POS>48</SIG-POS><LENGTH>16</LENGTH></SYSTEM-SIGNAL></FRAME-SIGNALS></FRAME><FRAME><FRAME-NAME>REAR</FRAME-NAME><IDENTIFIER>128</IDENTIFIER><ID-MODE>STANDARD</ID-MODE><PBO>LSB</PBO><DIR>IN</DIR><DLC>8</DLC><I-PDU-TIMING-SPECIFICATION><CYCLIC-TIMING><REPEATING-TIME>0.01</REPEATING-TIME><STARTING-TIME>0.0</STARTING-TIME></CYCLIC-TIMING></I-PDU-TIMING-SPECIFICATION><COUNTED-SIGNALS>4</COUNTED-SIGNALS><FRAME-SIGNALS><SYSTEM-SIGNAL><SIGNAL-NAME>REAR_BYTE_1_2</SIGNAL-NAME><SIG-POS>0</SIG-POS><LENGTH>16</LENGTH></SYSTEM-SIGNAL><SYSTEM-SIGNAL><SIGNAL-NAME>REAR_BYTE_3_4</SIGNAL-NAME><SIG-POS>16</SIG-POS><LENGTH>16</LENGTH></SYSTEM-SIGNAL><SYSTEM-SIGNAL><SIGNAL-NAME>REAR_BYTE_5_6</SIGNAL-NAME><SIG-POS>32</SIG-POS><LENGTH>16</LENGTH></SYSTEM-SIGNAL><SYSTEM-SIGNAL><SIGNAL-NAME>REAR_BYTE_7_8</SIGNAL-NAME><SIG-POS>48</SIG-POS><LENGTH>16</LENGTH></SYSTEM-SIGNAL></FRAME-SIGNALS></FRAME></DATA-CONTENT></CONFIGURATION-FILE-ENTRY><End-Protection>&gt;0008</End-Protection><CHECKING-NUMBER>;#000098447EB57D4</CHECKING-NUMBER></xml>'\n",
      "\n",
      "\n",
      "_SSLMethod.PROTOCOL_TLS\n"
     ]
    }
   ],
   "source": [
    "import io\n",
    "import paho.mqtt.publish as publish\n",
    "\n",
    "# --- Application --- #\n",
    "f = open(\"/path/to/config.xml\", \"rb\", buffering=0)\n",
    "\n",
    "conf_str = f.read()\n",
    "#print(conf_str)\n",
    "\n",
    "publish.single(\"DECIVE/config/update\", conf_str, hostname=\"broker.hivemq.com\")"
   ]
  }
 ],
 "metadata": {
  "kernelspec": {
   "display_name": "Python 3",
   "language": "python",
   "name": "python3"
  },
  "language_info": {
   "codemirror_mode": {
    "name": "ipython",
    "version": 3
   },
   "file_extension": ".py",
   "mimetype": "text/x-python",
   "name": "python",
   "nbconvert_exporter": "python",
   "pygments_lexer": "ipython3",
   "version": "3.8.5"
  }
 },
 "nbformat": 4,
 "nbformat_minor": 5
}