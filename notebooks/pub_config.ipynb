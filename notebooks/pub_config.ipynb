{
 "cells": [
  {
   "cell_type": "code",
   "execution_count": null,
   "id": "protecting-kennedy",
   "metadata": {},
   "outputs": [],
   "source": [
    "import io\n",
    "import paho.mqtt.client as mqtt\n",
    "\n",
    "# --- Callbacks --- #\n",
    "# The callback for when the client receives a CONNACK response from the server.\n",
    "def on_connect(client, userdata, flags, rc):\n",
    "    print(\"Connected with result code \"+str(rc))\n",
    "\n",
    "\n",
    "# --- Application --- #\n",
    "f = open(\"/path/to/config_.xml\", \"rb\", buffering=0)\n",
    "conf_str = f.read()\n",
    "#print(conf_str)\n",
    "\n",
    "client = mqtt.Client()\n",
    "client.on_connect = on_connect\n",
    "\n",
    "client.connect(\"broker.hivemq.com\", 1883, 60)\n",
    "client.publish(\"DEVICE/config/update\", conf_str)\n",
    "\n",
    "# Blocking call that processes network traffic, dispatches callbacks and\n",
    "# handles reconnecting.\n",
    "client.loop_forever()\n",
    "\n",
    "# These functions implement a threaded interface to the network loop. Calling\n",
    "# loop_start() once, before or after connect*(), runs a thread in the background to \n",
    "# call loop() automatically. This frees up the main thread for other work that may\n",
    "# be blocking. This call also handles reconnecting to the broker. Call loop_stop()\n",
    "# to stop the background thread. The force argument is currently ignored.\n",
    "# See also: https://github.com/eclipse/paho.mqtt.python#network-loop\n",
    "#loop_start()\n",
    "#loop_stop(force=False)"
   ]
  }
 ],
 "metadata": {
  "kernelspec": {
   "display_name": "Python 3",
   "language": "python",
   "name": "python3"
  },
  "language_info": {
   "codemirror_mode": {
    "name": "ipython",
    "version": 3
   },
   "file_extension": ".py",
   "mimetype": "text/x-python",
   "name": "python",
   "nbconvert_exporter": "python",
   "pygments_lexer": "ipython3",
   "version": "3.8.5"
  }
 },
 "nbformat": 4,
 "nbformat_minor": 5
}