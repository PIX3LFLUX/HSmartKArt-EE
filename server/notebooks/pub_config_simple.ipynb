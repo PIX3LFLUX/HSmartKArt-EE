{
 "cells": [
  {
   "cell_type": "code",
   "execution_count": null,
   "id": "absent-clark",
   "metadata": {},
   "outputs": [],
   "source": [
    "import io\n",
    "import paho.mqtt.publish as publish\n",
    "\n",
    "# --- Application --- #\n",
    "f = open(\"/path/to/config.xml\", \"rb\", buffering=0)\n",
    "\n",
    "conf_str = f.read()\n",
    "#print(conf_str)\n",
    "\n",
    "publish.single(\"DECIVE/config/update\", conf_str, hostname=\"broker.hivemq.com\")"
   ]
  }
 ],
 "metadata": {
  "kernelspec": {
   "display_name": "Python 3",
   "language": "python",
   "name": "python3"
  },
  "language_info": {
   "codemirror_mode": {
    "name": "ipython",
    "version": 3
   },
   "file_extension": ".py",
   "mimetype": "text/x-python",
   "name": "python",
   "nbconvert_exporter": "python",
   "pygments_lexer": "ipython3",
   "version": "3.8.5"
  }
 },
 "nbformat": 4,
 "nbformat_minor": 5
}