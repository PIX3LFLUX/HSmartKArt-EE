{
 "cells": [
  {
   "cell_type": "code",
   "execution_count": null,
   "id": "retained-advice",
   "metadata": {},
   "outputs": [],
   "source": [
    "import paho.mqtt.client as mqtt\n",
    "\n",
    "# --- Callbacks --- #\n",
    "# The callback for when the client receives a CONNACK response from the server.\n",
    "def on_connect(client, userdata, flags, rc):\n",
    "    print(\"Connected with result code \"+str(rc))\n",
    "    # Subscribing in on_connect() means that on reconnect (connection lost) the\n",
    "    # subscriptions will be renewed.\n",
    "    client.subscribe(\"RPI3BP0/ULTRASONIC/FRONT/64\")\n",
    "\n",
    "# The callback for when a PUBLISH message is received from the server.\n",
    "def on_message(client, userdata, msg):\n",
    "    print(\"Topic: \", msg.topic)\n",
    "    int_values = [x for x in msg.payload]\n",
    "    print(\"Message content: \", int_values)\n",
    "\n",
    "\n",
    "# --- Application --- #\n",
    "client = mqtt.Client()\n",
    "client.on_connect = on_connect\n",
    "client.on_message = on_message\n",
    "\n",
    "client.connect(\"broker.hivemq.com\", 1883, 60)\n",
    "client.subscribe(\"RPI3BP0/ULTRASONIC/FRONT/64\")\n",
    "\n",
    "# Blocking call that processes network traffic, dispatches callbacks and\n",
    "# handles reconnecting.\n",
    "client.loop_forever()\n",
    "\n",
    "# These functions implement a threaded interface to the network loop. Calling\n",
    "# loop_start() once, before or after connect*(), runs a thread in the background to \n",
    "# call loop() automatically. This frees up the main thread for other work that may\n",
    "# be blocking. This call also handles reconnecting to the broker. Call loop_stop()\n",
    "# to stop the background thread. The force argument is currently ignored.\n",
    "# See also: https://github.com/eclipse/paho.mqtt.python#network-loop\n",
    "#loop_start()\n",
    "#loop_stop(force=False)"
   ]
  }
 ],
 "metadata": {
  "kernelspec": {
   "display_name": "Python 3",
   "language": "python",
   "name": "python3"
  },
  "language_info": {
   "codemirror_mode": {
    "name": "ipython",
    "version": 3
   },
   "file_extension": ".py",
   "mimetype": "text/x-python",
   "name": "python",
   "nbconvert_exporter": "python",
   "pygments_lexer": "ipython3",
   "version": "3.8.5"
  }
 },
 "nbformat": 4,
 "nbformat_minor": 5
}